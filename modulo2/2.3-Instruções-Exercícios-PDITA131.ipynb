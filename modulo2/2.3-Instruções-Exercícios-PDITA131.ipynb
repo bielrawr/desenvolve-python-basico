{
  "metadata": {
    "kernelspec": {
      "name": "python",
      "display_name": "Python (Pyodide)",
      "language": "python"
    },
    "language_info": {
      "codemirror_mode": {
        "name": "python",
        "version": 3
      },
      "file_extension": ".py",
      "mimetype": "text/x-python",
      "name": "python",
      "nbconvert_exporter": "python",
      "pygments_lexer": "ipython3",
      "version": "3.8"
    },
    "colab": {
      "provenance": []
    }
  },
  "nbformat_minor": 4,
  "nbformat": 4,
  "cells": [
    {
      "cell_type": "markdown",
      "source": "# Módulo 2\n\n## 2.3 Instruções e Expressões\n\n### Q1\n\nFaça um programa que armazene o valor de 20 reais de salário por hora de um trabalhador, e o número de 40 horas trabalhadas na semana. Com essas informações, calcule e imprima:\n- Salário semanal bruto\n- Valor descontado por semana INSS (10% do bruto)\n- Valor descontado por semana pelo sindicato (5% do bruto)\n- Salário semanal líquido (Bruto - Descontos)",
      "metadata": {
        "id": "1pCTdOHonv5f"
      }
    },
    {
      "cell_type": "code",
      "source": "## Escreva e execute seu código aqui\nsalario_horas = 20\nhoras_semana = 40\n\n## Salário semanal bruto\nprint(\"Salário semanal bruto R$\", salario_horas * horas_semana)\nvalor_bruto = salario_horas * horas_semana\n\n## Valor descontado por semana INSS (10% do bruto)\nprint(\"Descontos INSS R$\", salario_horas * horas_semana / 100 * 10)\n\n## Valor descontado por semana pelo sindicato (5% do bruto)\nprint(\"Descontos SINDICATO R$\", salario_horas * horas_semana / 100*5)\n\n## Salário semanal Líquido (Bruto - Descontos)\nprint(\"Salário semanal líquido R$\", valor_bruto - salario_horas * horas_semana / 100*15)",
      "metadata": {
        "id": "hVbX0I97nj6M",
        "trusted": true
      },
      "outputs": [
        {
          "name": "stdout",
          "text": "Salário semanal bruto R$ 800\nDescontos INSS R$ 80.0\nDescontos SINDICATO R$ 40.0\nSalário semanal líquido R$ 680.0\n",
          "output_type": "stream"
        }
      ],
      "execution_count": 21
    },
    {
      "cell_type": "markdown",
      "source": "### Q2\n\nAltere o programa anterior para a partir dos valores de horas trabalhadas por semana e salário por hora, calcular **em somente duas instruções**:\n- Salário semanal bruto\n- Salário semanal líquido com todos os descontos. Para a segunda instrução, realize todos os cálculos aritméticos em uma expressão composta.\n",
      "metadata": {
        "id": "pIxKX9J2oGZ1"
      }
    },
    {
      "cell_type": "code",
      "source": "## Escreva e execute seu código\n\n## Salário semanal bruto\nprint(\"Salário semanal bruto R$\", valor_bruto)\n\n## Salário semanal líquido \nsalario_horas, horas_semana, valor_liquido = 20, 40, valor_bruto - salario_horas * horas_semana / 100*15\nprint(\"Salário semanal líquido R$\", valor_liquido)",
      "metadata": {
        "id": "pAHw9Xf9oGoi",
        "trusted": true
      },
      "outputs": [
        {
          "name": "stdout",
          "text": "Salário semanal bruto R$ 800\nSalário semanal líquido R$ 680.0\n",
          "output_type": "stream"
        }
      ],
      "execution_count": 44
    },
    {
      "cell_type": "markdown",
      "source": "### Q3\n\nVocê está desenvolvendo um software de conversão de moeda e precisa calcular o valor equivalente em yuan chinês a partir de uma quantia em real. A taxa de câmbio é de 0.69 BRL (real) para 1 CNY (yuan). Escreva um programa que define em uma variável uma quantia em reais (BRL) e calcula o valor equivalente em yuan (CNY). Imprima o resultado.",
      "metadata": {
        "id": "m8tlHRuWpBOB"
      }
    },
    {
      "cell_type": "code",
      "source": "## Escreva e execute seu código aqui\n\nbrl = 0.69\ncny = 1\nprint(\"R$ 500 em YUAN é\", cny * 500 / brl)",
      "metadata": {
        "id": "2bPw7uF6oeL9",
        "trusted": true
      },
      "outputs": [
        {
          "name": "stdout",
          "text": "R$ 500 em YUAN é 724.6376811594204\n",
          "output_type": "stream"
        }
      ],
      "execution_count": 22
    },
    {
      "cell_type": "markdown",
      "source": "### Q4\n\nVocê é um treinador de corrida e deseja calcular a velocidade média que um atleta precisa manter para completar a Maratona Internacional de São Silvestre, que tem uma distância total de 42.195 km. A fórmula para calcular a velocidade média ($v\\_media$) é dada por $v\\_media = \\frac{distancia}{tempo}$ . Escreva um programa em Python para calcular a velocidade média necessária para completar a maratona em 3 horas.\n\n**Calcule e imprima o resultado em metros/segundo**, ou seja, converta a distância de quilômetros para metros ($metro = \\frac{km}{1000}$) e a velocidade de horas para segundos $(segundo = \\frac{hora}{3600})$.",
      "metadata": {
        "id": "-Na3ltDCp74A"
      }
    },
    {
      "cell_type": "code",
      "source": "## Escreva e execute seu código aqui\n\nkm_total = 42.195\nhora = 3\nvel_media = km_total / hora\nprint(\"A velocidade média necessária para finalizar o percurso de 42.195km em 3 horas é\", vel_media)\n\nmetro = km_total/1000\nsegundo = hora * 3600\nvel_media = metro / segundo\n\nprint(\"A velocidade média em m/s é\", vel_media)\n",
      "metadata": {
        "id": "Bn6l8kcSrE4L",
        "trusted": true
      },
      "outputs": [
        {
          "name": "stdout",
          "text": "A velocidade média necessária para finalizar o percurso de 42.195km em 3 horas é 14.065\nA velocidade média em m/s é 3.906944444444445e-06\n",
          "output_type": "stream"
        }
      ],
      "execution_count": 7
    },
    {
      "cell_type": "code",
      "source": "",
      "metadata": {
        "trusted": true
      },
      "outputs": [],
      "execution_count": null
    }
  ]
}